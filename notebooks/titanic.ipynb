{
 "cells": [
  {
   "cell_type": "markdown",
   "id": "75147e74",
   "metadata": {},
   "source": [
    "# Titanic - Machine Learning from Disaster\n",
    "This is the legendary Titanic ML competition – the best, first challenge for you to dive into ML competitions and familiarize yourself with how the Kaggle platform works."
   ]
  },
  {
   "cell_type": "code",
   "execution_count": 1,
   "id": "7f955545",
   "metadata": {},
   "outputs": [],
   "source": [
    "import torch\n",
    "import torch.nn as nn\n",
    "import torch.optim as optim\n",
    "from torch.utils.data import Dataset, DataLoader\n",
    "\n",
    "import matplotlib.pyplot as plt\n",
    "import seaborn as sns\n",
    "import pandas as pd\n",
    "import numpy as np\n",
    "\n",
    "from sklearn.preprocessing import LabelEncoder, StandardScaler"
   ]
  },
  {
   "cell_type": "code",
   "execution_count": 2,
   "id": "91e227d6",
   "metadata": {},
   "outputs": [
    {
     "data": {
      "text/plain": [
       "'2.8.0+cu126'"
      ]
     },
     "execution_count": 2,
     "metadata": {},
     "output_type": "execute_result"
    }
   ],
   "source": [
    "torch.__version__"
   ]
  },
  {
   "cell_type": "code",
   "execution_count": 3,
   "id": "c25957d4",
   "metadata": {},
   "outputs": [
    {
     "data": {
      "text/plain": [
       "device(type='cuda')"
      ]
     },
     "execution_count": 3,
     "metadata": {},
     "output_type": "execute_result"
    }
   ],
   "source": [
    "device = torch.device('cuda' if torch.cuda.is_available() else 'cpu')\n",
    "device"
   ]
  },
  {
   "cell_type": "code",
   "execution_count": 4,
   "id": "257c6418",
   "metadata": {},
   "outputs": [],
   "source": [
    "class TitanicDataset(Dataset):\n",
    "\n",
    "    def __init__(self, csv_file, is_test):\n",
    "        super().__init__()\n",
    "        self.df = pd.read_csv(csv_file)\n",
    "        self.is_test = is_test\n",
    "    \n",
    "    def __len__(self):\n",
    "        return len(self.df)\n",
    "    \n",
    "    def __getitem__(self, index):\n",
    "        item = self.df.iloc[index][1:]\n",
    "\n",
    "        if self.is_test:\n",
    "            data = item.values\n",
    "            return torch.tensor(data, dtype=torch.float32)\n",
    "        \n",
    "        else:\n",
    "            data = item.drop('Survived').values\n",
    "            label = item['Survived']\n",
    "            return torch.tensor(data, dtype=torch.float32), torch.tensor(label, dtype=torch.long)\n"
   ]
  },
  {
   "cell_type": "code",
   "execution_count": 5,
   "id": "af31a9d7",
   "metadata": {},
   "outputs": [],
   "source": [
    "train_dataset = TitanicDataset('./../datasets/titanic-train.csv', False)\n",
    "test_dataset = TitanicDataset('./../datasets/titanic-test.csv', True)"
   ]
  },
  {
   "cell_type": "code",
   "execution_count": 6,
   "id": "bc17d619",
   "metadata": {},
   "outputs": [
    {
     "data": {
      "text/html": [
       "<div>\n",
       "<style scoped>\n",
       "    .dataframe tbody tr th:only-of-type {\n",
       "        vertical-align: middle;\n",
       "    }\n",
       "\n",
       "    .dataframe tbody tr th {\n",
       "        vertical-align: top;\n",
       "    }\n",
       "\n",
       "    .dataframe thead th {\n",
       "        text-align: right;\n",
       "    }\n",
       "</style>\n",
       "<table border=\"1\" class=\"dataframe\">\n",
       "  <thead>\n",
       "    <tr style=\"text-align: right;\">\n",
       "      <th></th>\n",
       "      <th>PassengerId</th>\n",
       "      <th>Survived</th>\n",
       "      <th>Pclass</th>\n",
       "      <th>Name</th>\n",
       "      <th>Sex</th>\n",
       "      <th>Age</th>\n",
       "      <th>SibSp</th>\n",
       "      <th>Parch</th>\n",
       "      <th>Ticket</th>\n",
       "      <th>Fare</th>\n",
       "      <th>Cabin</th>\n",
       "      <th>Embarked</th>\n",
       "    </tr>\n",
       "  </thead>\n",
       "  <tbody>\n",
       "    <tr>\n",
       "      <th>0</th>\n",
       "      <td>1</td>\n",
       "      <td>0</td>\n",
       "      <td>3</td>\n",
       "      <td>Braund, Mr. Owen Harris</td>\n",
       "      <td>male</td>\n",
       "      <td>22.0</td>\n",
       "      <td>1</td>\n",
       "      <td>0</td>\n",
       "      <td>A/5 21171</td>\n",
       "      <td>7.2500</td>\n",
       "      <td>NaN</td>\n",
       "      <td>S</td>\n",
       "    </tr>\n",
       "    <tr>\n",
       "      <th>1</th>\n",
       "      <td>2</td>\n",
       "      <td>1</td>\n",
       "      <td>1</td>\n",
       "      <td>Cumings, Mrs. John Bradley (Florence Briggs Th...</td>\n",
       "      <td>female</td>\n",
       "      <td>38.0</td>\n",
       "      <td>1</td>\n",
       "      <td>0</td>\n",
       "      <td>PC 17599</td>\n",
       "      <td>71.2833</td>\n",
       "      <td>C85</td>\n",
       "      <td>C</td>\n",
       "    </tr>\n",
       "    <tr>\n",
       "      <th>2</th>\n",
       "      <td>3</td>\n",
       "      <td>1</td>\n",
       "      <td>3</td>\n",
       "      <td>Heikkinen, Miss. Laina</td>\n",
       "      <td>female</td>\n",
       "      <td>26.0</td>\n",
       "      <td>0</td>\n",
       "      <td>0</td>\n",
       "      <td>STON/O2. 3101282</td>\n",
       "      <td>7.9250</td>\n",
       "      <td>NaN</td>\n",
       "      <td>S</td>\n",
       "    </tr>\n",
       "    <tr>\n",
       "      <th>3</th>\n",
       "      <td>4</td>\n",
       "      <td>1</td>\n",
       "      <td>1</td>\n",
       "      <td>Futrelle, Mrs. Jacques Heath (Lily May Peel)</td>\n",
       "      <td>female</td>\n",
       "      <td>35.0</td>\n",
       "      <td>1</td>\n",
       "      <td>0</td>\n",
       "      <td>113803</td>\n",
       "      <td>53.1000</td>\n",
       "      <td>C123</td>\n",
       "      <td>S</td>\n",
       "    </tr>\n",
       "    <tr>\n",
       "      <th>4</th>\n",
       "      <td>5</td>\n",
       "      <td>0</td>\n",
       "      <td>3</td>\n",
       "      <td>Allen, Mr. William Henry</td>\n",
       "      <td>male</td>\n",
       "      <td>35.0</td>\n",
       "      <td>0</td>\n",
       "      <td>0</td>\n",
       "      <td>373450</td>\n",
       "      <td>8.0500</td>\n",
       "      <td>NaN</td>\n",
       "      <td>S</td>\n",
       "    </tr>\n",
       "  </tbody>\n",
       "</table>\n",
       "</div>"
      ],
      "text/plain": [
       "   PassengerId  Survived  Pclass  \\\n",
       "0            1         0       3   \n",
       "1            2         1       1   \n",
       "2            3         1       3   \n",
       "3            4         1       1   \n",
       "4            5         0       3   \n",
       "\n",
       "                                                Name     Sex   Age  SibSp  \\\n",
       "0                            Braund, Mr. Owen Harris    male  22.0      1   \n",
       "1  Cumings, Mrs. John Bradley (Florence Briggs Th...  female  38.0      1   \n",
       "2                             Heikkinen, Miss. Laina  female  26.0      0   \n",
       "3       Futrelle, Mrs. Jacques Heath (Lily May Peel)  female  35.0      1   \n",
       "4                           Allen, Mr. William Henry    male  35.0      0   \n",
       "\n",
       "   Parch            Ticket     Fare Cabin Embarked  \n",
       "0      0         A/5 21171   7.2500   NaN        S  \n",
       "1      0          PC 17599  71.2833   C85        C  \n",
       "2      0  STON/O2. 3101282   7.9250   NaN        S  \n",
       "3      0            113803  53.1000  C123        S  \n",
       "4      0            373450   8.0500   NaN        S  "
      ]
     },
     "execution_count": 6,
     "metadata": {},
     "output_type": "execute_result"
    }
   ],
   "source": [
    "train_dataset.df.head(5)"
   ]
  },
  {
   "cell_type": "code",
   "execution_count": 7,
   "id": "af12f4ee",
   "metadata": {},
   "outputs": [
    {
     "name": "stdout",
     "output_type": "stream",
     "text": [
      "<class 'pandas.core.frame.DataFrame'>\n",
      "RangeIndex: 891 entries, 0 to 890\n",
      "Data columns (total 12 columns):\n",
      " #   Column       Non-Null Count  Dtype  \n",
      "---  ------       --------------  -----  \n",
      " 0   PassengerId  891 non-null    int64  \n",
      " 1   Survived     891 non-null    int64  \n",
      " 2   Pclass       891 non-null    int64  \n",
      " 3   Name         891 non-null    object \n",
      " 4   Sex          891 non-null    object \n",
      " 5   Age          714 non-null    float64\n",
      " 6   SibSp        891 non-null    int64  \n",
      " 7   Parch        891 non-null    int64  \n",
      " 8   Ticket       891 non-null    object \n",
      " 9   Fare         891 non-null    float64\n",
      " 10  Cabin        204 non-null    object \n",
      " 11  Embarked     889 non-null    object \n",
      "dtypes: float64(2), int64(5), object(5)\n",
      "memory usage: 83.7+ KB\n"
     ]
    }
   ],
   "source": [
    "train_dataset.df.info()"
   ]
  },
  {
   "cell_type": "code",
   "execution_count": 8,
   "id": "cafcbd15",
   "metadata": {},
   "outputs": [
    {
     "name": "stdout",
     "output_type": "stream",
     "text": [
      "<class 'pandas.core.frame.DataFrame'>\n",
      "RangeIndex: 418 entries, 0 to 417\n",
      "Data columns (total 11 columns):\n",
      " #   Column       Non-Null Count  Dtype  \n",
      "---  ------       --------------  -----  \n",
      " 0   PassengerId  418 non-null    int64  \n",
      " 1   Pclass       418 non-null    int64  \n",
      " 2   Name         418 non-null    object \n",
      " 3   Sex          418 non-null    object \n",
      " 4   Age          332 non-null    float64\n",
      " 5   SibSp        418 non-null    int64  \n",
      " 6   Parch        418 non-null    int64  \n",
      " 7   Ticket       418 non-null    object \n",
      " 8   Fare         417 non-null    float64\n",
      " 9   Cabin        91 non-null     object \n",
      " 10  Embarked     418 non-null    object \n",
      "dtypes: float64(2), int64(4), object(5)\n",
      "memory usage: 36.1+ KB\n"
     ]
    }
   ],
   "source": [
    "test_dataset.df.info()"
   ]
  },
  {
   "cell_type": "code",
   "execution_count": 9,
   "id": "09241780",
   "metadata": {},
   "outputs": [],
   "source": [
    "mean_age = train_dataset.df['Age'].mean()\n",
    "mean_fare = train_dataset.df['Fare'].mean()\n",
    "embarked_unknown = 'Unknown'\n",
    "\n",
    "train_dataset.df.fillna({'Age': mean_age, 'Fare': mean_fare, 'Embarked': embarked_unknown}, inplace=True)\n",
    "test_dataset.df.fillna({'Age': mean_age, 'Fare': mean_fare, 'Embarked': embarked_unknown}, inplace=True)\n",
    "\n",
    "train_dataset.df.drop(columns=['Cabin', 'Name', 'Ticket'], inplace=True)\n",
    "test_dataset.df.drop(columns=['Cabin', 'Name', 'Ticket'], inplace=True)"
   ]
  },
  {
   "cell_type": "code",
   "execution_count": 10,
   "id": "ef7b39c7",
   "metadata": {},
   "outputs": [],
   "source": [
    "sex_encoder = LabelEncoder()\n",
    "train_dataset.df['Sex'] = sex_encoder.fit_transform(train_dataset.df['Sex'])\n",
    "test_dataset.df['Sex'] = sex_encoder.transform(test_dataset.df['Sex'])\n",
    "\n",
    "embarked_encoder = LabelEncoder()\n",
    "train_dataset.df['Embarked'] = embarked_encoder.fit_transform(train_dataset.df['Embarked'])\n",
    "test_dataset.df['Embarked'] = embarked_encoder.transform(test_dataset.df['Embarked'])\n",
    "\n",
    "train_dataset.df['Pclass'] = train_dataset.df['Pclass'] - 1\n",
    "test_dataset.df['Pclass'] = test_dataset.df['Pclass'] - 1"
   ]
  },
  {
   "cell_type": "code",
   "execution_count": 11,
   "id": "1e8a3bf2",
   "metadata": {},
   "outputs": [],
   "source": [
    "float_feats = ['Age', 'SibSp', 'Parch', 'Fare']\n",
    "\n",
    "scaler = StandardScaler()\n",
    "train_dataset.df[float_feats] = scaler.fit_transform(train_dataset.df[float_feats])\n",
    "test_dataset.df[float_feats] = scaler.transform(test_dataset.df[float_feats])"
   ]
  },
  {
   "cell_type": "code",
   "execution_count": 12,
   "id": "cb828d61",
   "metadata": {},
   "outputs": [
    {
     "data": {
      "text/plain": [
       "(tensor([ 2.0000,  1.0000, -0.5925,  0.4328, -0.4737, -0.5024,  2.0000]),\n",
       " tensor(0))"
      ]
     },
     "execution_count": 12,
     "metadata": {},
     "output_type": "execute_result"
    }
   ],
   "source": [
    "train_dataset[0]"
   ]
  },
  {
   "cell_type": "code",
   "execution_count": 13,
   "id": "637d6408",
   "metadata": {},
   "outputs": [
    {
     "data": {
      "text/plain": [
       "tensor([ 2.0000,  1.0000,  0.3694, -0.4745, -0.4737, -0.4908,  1.0000])"
      ]
     },
     "execution_count": 13,
     "metadata": {},
     "output_type": "execute_result"
    }
   ],
   "source": [
    "test_dataset[0]"
   ]
  },
  {
   "cell_type": "code",
   "execution_count": 14,
   "id": "26b148e5",
   "metadata": {},
   "outputs": [
    {
     "data": {
      "image/png": "[encoded data removed]",
      "text/plain": [
       "<Figure size 640x480 with 2 Axes>"
      ]
     },
     "metadata": {},
     "output_type": "display_data"
    }
   ],
   "source": [
    "sns.heatmap(train_dataset.df.corr(), annot=True, cmap='coolwarm')\n",
    "plt.show()"
   ]
  },
  {
   "cell_type": "code",
   "execution_count": 15,
   "id": "26e18058",
   "metadata": {},
   "outputs": [],
   "source": [
    "class TitanicNN(nn.Module):\n",
    "    \n",
    "    def __init__(self):\n",
    "        super().__init__()\n",
    "\n",
    "        self.in_layer = nn.Linear(7, 32)\n",
    "        self.hid_layer = nn.Linear(32, 32)\n",
    "        self.out_layer = nn.Linear(32, 2)\n",
    "        self.relu = nn.ReLU()\n",
    "\n",
    "        self.linear_layers = nn.Sequential(\n",
    "            self.in_layer,\n",
    "            self.relu,\n",
    "            \n",
    "            self.hid_layer,\n",
    "            self.relu,\n",
    "\n",
    "            self.out_layer\n",
    "        )\n",
    "    \n",
    "    def forward(self, x):\n",
    "        return self.linear_layers(x)"
   ]
  },
  {
   "cell_type": "code",
   "execution_count": 16,
   "id": "b5b7d12c",
   "metadata": {},
   "outputs": [],
   "source": [
    "model = TitanicNN().to(device)\n",
    "criterion = nn.CrossEntropyLoss().to(device)\n",
    "optimizer = optim.Adam(model.parameters(), 0.001)"
   ]
  },
  {
   "cell_type": "code",
   "execution_count": 17,
   "id": "3da26b25",
   "metadata": {},
   "outputs": [],
   "source": [
    "batch_size = 64\n",
    "train_loader = DataLoader(train_dataset, batch_size, True)\n",
    "test_loader = DataLoader(test_dataset, batch_size, False)"
   ]
  },
  {
   "cell_type": "code",
   "execution_count": 18,
   "id": "f6e42fe2",
   "metadata": {},
   "outputs": [
    {
     "name": "stdout",
     "output_type": "stream",
     "text": [
      "Epoch 1 accuracy: 0.6071829405162739\n",
      "Epoch 2 accuracy: 0.6161616161616161\n",
      "Epoch 3 accuracy: 0.6408529741863075\n",
      "Epoch 4 accuracy: 0.7115600448933782\n",
      "Epoch 5 accuracy: 0.7362514029180696\n",
      "Epoch 6 accuracy: 0.7508417508417509\n",
      "Epoch 7 accuracy: 0.7710437710437711\n",
      "Epoch 8 accuracy: 0.7822671156004489\n",
      "Epoch 9 accuracy: 0.7968574635241302\n",
      "Epoch 10 accuracy: 0.8024691358024691\n",
      "Epoch 11 accuracy: 0.8069584736251403\n",
      "Epoch 12 accuracy: 0.8226711560044894\n",
      "Epoch 13 accuracy: 0.8181818181818182\n",
      "Epoch 14 accuracy: 0.8215488215488216\n",
      "Epoch 15 accuracy: 0.8237934904601572\n",
      "Epoch 16 accuracy: 0.8226711560044894\n",
      "Epoch 17 accuracy: 0.8271604938271605\n",
      "Epoch 18 accuracy: 0.8282828282828283\n",
      "Epoch 19 accuracy: 0.8271604938271605\n",
      "Epoch 20 accuracy: 0.8237934904601572\n",
      "Epoch 21 accuracy: 0.8305274971941639\n",
      "Epoch 22 accuracy: 0.8271604938271605\n",
      "Epoch 23 accuracy: 0.8294051627384961\n",
      "Epoch 24 accuracy: 0.8294051627384961\n",
      "Epoch 25 accuracy: 0.8338945005611672\n",
      "Epoch 26 accuracy: 0.8294051627384961\n",
      "Epoch 27 accuracy: 0.8327721661054994\n",
      "Epoch 28 accuracy: 0.8338945005611672\n",
      "Epoch 29 accuracy: 0.8316498316498316\n",
      "Epoch 30 accuracy: 0.835016835016835\n",
      "Epoch 31 accuracy: 0.8361391694725028\n",
      "Epoch 32 accuracy: 0.8406285072951739\n",
      "Epoch 33 accuracy: 0.8372615039281706\n",
      "Epoch 34 accuracy: 0.8361391694725028\n",
      "Epoch 35 accuracy: 0.835016835016835\n",
      "Epoch 36 accuracy: 0.8395061728395061\n",
      "Epoch 37 accuracy: 0.8372615039281706\n",
      "Epoch 38 accuracy: 0.8406285072951739\n",
      "Epoch 39 accuracy: 0.8428731762065096\n",
      "Epoch 40 accuracy: 0.8395061728395061\n",
      "Epoch 41 accuracy: 0.8406285072951739\n",
      "Epoch 42 accuracy: 0.8428731762065096\n",
      "Epoch 43 accuracy: 0.8428731762065096\n",
      "Epoch 44 accuracy: 0.8406285072951739\n",
      "Epoch 45 accuracy: 0.8417508417508418\n",
      "Epoch 46 accuracy: 0.8417508417508418\n",
      "Epoch 47 accuracy: 0.8406285072951739\n",
      "Epoch 48 accuracy: 0.8395061728395061\n",
      "Epoch 49 accuracy: 0.8428731762065096\n",
      "Epoch 50 accuracy: 0.8383838383838383\n"
     ]
    }
   ],
   "source": [
    "num_epoch = 50\n",
    "\n",
    "for epoch in range(num_epoch):\n",
    "    n_correct = 0\n",
    "    n_samples = 0\n",
    "\n",
    "    for data, labels in train_loader:\n",
    "        data = data.to(device)\n",
    "        labels = labels.to(device)\n",
    "        \n",
    "        optimizer.zero_grad()\n",
    "        outputs = model(data)\n",
    "\n",
    "        loss = criterion(outputs, labels)\n",
    "        loss.backward()\n",
    "        optimizer.step()\n",
    "\n",
    "        _, pred = torch.max(outputs, 1)\n",
    "        n_correct += (labels == pred).sum().item()\n",
    "        n_samples += len(data)\n",
    "\n",
    "    print(f'Epoch {epoch+1} accuracy:', n_correct/n_samples)"
   ]
  },
  {
   "cell_type": "code",
   "execution_count": 19,
   "id": "ef08f405",
   "metadata": {},
   "outputs": [
    {
     "data": {
      "text/plain": [
       "array([0, 1, 0, 0, 0, 0, 1, 0, 1, 0, 0, 0, 1, 0, 1, 1, 0, 0, 0, 1, 1, 1,\n",
       "       1, 1, 1, 0, 1, 0, 0, 0, 0, 0, 0, 0, 0, 0, 1, 1, 0, 0, 0, 0, 0, 1,\n",
       "       1, 0, 0, 0, 1, 0, 0, 0, 1, 1, 0, 0, 0, 0, 0, 1, 0, 0, 0, 1, 0, 1,\n",
       "       1, 0, 0, 1, 1, 0, 1, 0, 1, 0, 0, 1, 0, 1, 1, 1, 0, 0, 0, 0, 1, 1,\n",
       "       1, 1, 0, 0, 1, 0, 1, 0, 1, 0, 1, 0, 1, 0, 0, 0, 1, 0, 0, 0, 0, 0,\n",
       "       0, 1, 1, 1, 1, 0, 0, 1, 0, 1, 1, 0, 1, 0, 0, 1, 0, 1, 0, 0, 0, 0,\n",
       "       0, 0, 0, 0, 0, 0, 1, 0, 0, 1, 0, 0, 0, 0, 0, 0, 0, 0, 1, 0, 0, 0,\n",
       "       0, 0, 1, 1, 0, 0, 1, 1, 1, 0, 0, 0, 0, 0, 1, 1, 0, 0, 0, 0, 0, 1,\n",
       "       1, 1, 1, 1, 0, 0, 1, 0, 1, 0, 1, 0, 0, 0, 0, 0, 0, 0, 1, 0, 1, 1,\n",
       "       0, 1, 1, 1, 1, 1, 0, 0, 1, 0, 1, 0, 0, 0, 0, 1, 0, 0, 1, 1, 1, 0,\n",
       "       1, 0, 1, 0, 1, 0, 0, 1, 0, 0, 0, 1, 0, 0, 0, 0, 1, 0, 1, 1, 1, 1,\n",
       "       0, 0, 0, 0, 1, 0, 1, 1, 1, 0, 0, 0, 0, 0, 0, 0, 1, 0, 0, 0, 1, 1,\n",
       "       0, 0, 0, 0, 1, 0, 0, 0, 1, 1, 0, 1, 0, 0, 0, 0, 1, 1, 1, 1, 1, 0,\n",
       "       0, 0, 0, 0, 0, 1, 0, 0, 0, 0, 1, 0, 0, 0, 0, 0, 0, 0, 1, 1, 0, 1,\n",
       "       0, 1, 0, 0, 0, 1, 1, 1, 1, 0, 0, 0, 0, 0, 0, 0, 1, 0, 1, 0, 0, 0,\n",
       "       1, 0, 0, 1, 0, 0, 0, 0, 0, 0, 0, 0, 0, 1, 0, 1, 0, 1, 0, 1, 1, 0,\n",
       "       0, 0, 1, 0, 1, 0, 0, 0, 0, 1, 1, 0, 1, 0, 0, 1, 1, 0, 0, 1, 0, 0,\n",
       "       1, 1, 0, 0, 0, 0, 0, 0, 1, 0, 0, 1, 0, 0, 0, 0, 0, 1, 0, 0, 0, 1,\n",
       "       0, 1, 0, 0, 1, 0, 1, 1, 0, 1, 0, 1, 1, 1, 1, 1, 1, 0, 1, 0, 0, 0])"
      ]
     },
     "execution_count": 19,
     "metadata": {},
     "output_type": "execute_result"
    }
   ],
   "source": [
    "predictions = []\n",
    "\n",
    "with torch.no_grad():\n",
    "    for data in test_loader:\n",
    "        data = data.to(device)\n",
    "        outputs = model(data)\n",
    "\n",
    "        _, pred = torch.max(outputs, 1)\n",
    "        predictions.extend(pred.cpu().numpy())\n",
    "\n",
    "predictions = np.array(predictions)\n",
    "predictions"
   ]
  },
  {
   "cell_type": "code",
   "execution_count": 20,
   "id": "ad01e157",
   "metadata": {},
   "outputs": [],
   "source": [
    "submission_df = pd.DataFrame({'PassengerId': test_dataset.df['PassengerId'].values, 'Survived': predictions})\n",
    "submission_df.to_csv('./../submissions/titanic-submission.csv', index=False)"
   ]
  }
 ],
 "metadata": {
  "kernelspec": {
   "display_name": ".venv",
   "language": "python",
   "name": "python3"
  },
  "language_info": {
   "codemirror_mode": {
    "name": "ipython",
    "version": 3
   },
   "file_extension": ".py",
   "mimetype": "text/x-python",
   "name": "python",
   "nbconvert_exporter": "python",
   "pygments_lexer": "ipython3",
   "version": "3.13.5"
  }
 },
 "nbformat": 4,
 "nbformat_minor": 5
}
