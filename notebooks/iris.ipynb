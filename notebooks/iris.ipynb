{
 "cells": [
  {
   "cell_type": "markdown",
   "id": "283841a6",
   "metadata": {},
   "source": [
    "# ECE657AW21 Assignment Iris Dataset\n",
    "The Iris flower data set is a multivariate data set introduced by the British statistician and biologist Ronald Fisher in his 1936 paper. The data set consists of 50 samples from each of three species of Iris (Iris Setosa, Iris virginica, and Iris versicolor). Four features were measured from each sample: the length and the width of the sepals and petals, in centimeters."
   ]
  },
  {
   "cell_type": "code",
   "execution_count": 1,
   "id": "3f17513b",
   "metadata": {},
   "outputs": [],
   "source": [
    "import torch\n",
    "import torch.nn as nn\n",
    "import torch.optim as optim\n",
    "import torch.nn.functional as F\n",
    "from torch.utils.data import DataLoader, Dataset\n",
    "import matplotlib.pyplot as plt\n",
    "import seaborn as sns\n",
    "import numpy as np\n",
    "import pandas as pd\n",
    "\n",
    "from sklearn.preprocessing import StandardScaler, LabelEncoder"
   ]
  },
  {
   "cell_type": "code",
   "execution_count": 2,
   "id": "d843414f",
   "metadata": {},
   "outputs": [
    {
     "data": {
      "text/plain": [
       "'2.8.0+cu126'"
      ]
     },
     "execution_count": 2,
     "metadata": {},
     "output_type": "execute_result"
    }
   ],
   "source": [
    "torch.__version__"
   ]
  },
  {
   "cell_type": "code",
   "execution_count": 3,
   "id": "407c7af1",
   "metadata": {},
   "outputs": [
    {
     "data": {
      "text/plain": [
       "device(type='cuda')"
      ]
     },
     "execution_count": 3,
     "metadata": {},
     "output_type": "execute_result"
    }
   ],
   "source": [
    "device = torch.device('cuda' if torch.cuda.is_available() else 'cpu')\n",
    "device"
   ]
  },
  {
   "cell_type": "code",
   "execution_count": 4,
   "id": "a64306b8",
   "metadata": {},
   "outputs": [],
   "source": [
    "class IrisDataSet(Dataset):\n",
    "\n",
    "    def __init__(self, csv_file, is_test):\n",
    "        super().__init__()\n",
    "        self.df = pd.read_csv(csv_file)\n",
    "        self.is_test = is_test\n",
    "    \n",
    "    def __len__(self):\n",
    "        return len(self.df)\n",
    "    \n",
    "    def __getitem__(self, index):\n",
    "        item = self.df.iloc[index]\n",
    "\n",
    "        # Return data        \n",
    "        if self.is_test:\n",
    "            data = item.iloc[1:].values\n",
    "            return torch.tensor(data, dtype=torch.float32)\n",
    "        # Return data, label\n",
    "        else:\n",
    "            data = item.iloc[:-1].values\n",
    "            label = item.iloc[-1]\n",
    "            return torch.tensor(data, dtype=torch.float32), torch.tensor(label, dtype=torch.long)\n"
   ]
  },
  {
   "cell_type": "code",
   "execution_count": 5,
   "id": "28a3dca3",
   "metadata": {},
   "outputs": [
    {
     "data": {
      "text/html": [
       "<div>\n",
       "<style scoped>\n",
       "    .dataframe tbody tr th:only-of-type {\n",
       "        vertical-align: middle;\n",
       "    }\n",
       "\n",
       "    .dataframe tbody tr th {\n",
       "        vertical-align: top;\n",
       "    }\n",
       "\n",
       "    .dataframe thead th {\n",
       "        text-align: right;\n",
       "    }\n",
       "</style>\n",
       "<table border=\"1\" class=\"dataframe\">\n",
       "  <thead>\n",
       "    <tr style=\"text-align: right;\">\n",
       "      <th></th>\n",
       "      <th>sepal_length</th>\n",
       "      <th>sepal_width</th>\n",
       "      <th>petal_length</th>\n",
       "      <th>petal_width</th>\n",
       "      <th>species</th>\n",
       "    </tr>\n",
       "  </thead>\n",
       "  <tbody>\n",
       "    <tr>\n",
       "      <th>0</th>\n",
       "      <td>5.045070</td>\n",
       "      <td>2.508203</td>\n",
       "      <td>3.018024</td>\n",
       "      <td>1.164924</td>\n",
       "      <td>Iris-versicolor</td>\n",
       "    </tr>\n",
       "    <tr>\n",
       "      <th>1</th>\n",
       "      <td>6.325517</td>\n",
       "      <td>2.115481</td>\n",
       "      <td>4.542052</td>\n",
       "      <td>1.413651</td>\n",
       "      <td>Iris-versicolor</td>\n",
       "    </tr>\n",
       "    <tr>\n",
       "      <th>2</th>\n",
       "      <td>5.257497</td>\n",
       "      <td>3.814303</td>\n",
       "      <td>1.470660</td>\n",
       "      <td>0.395348</td>\n",
       "      <td>Iris-setosa</td>\n",
       "    </tr>\n",
       "    <tr>\n",
       "      <th>3</th>\n",
       "      <td>6.675168</td>\n",
       "      <td>3.201700</td>\n",
       "      <td>5.785461</td>\n",
       "      <td>2.362764</td>\n",
       "      <td>Iris-virginica</td>\n",
       "    </tr>\n",
       "    <tr>\n",
       "      <th>4</th>\n",
       "      <td>5.595237</td>\n",
       "      <td>2.678166</td>\n",
       "      <td>4.077750</td>\n",
       "      <td>1.369266</td>\n",
       "      <td>Iris-versicolor</td>\n",
       "    </tr>\n",
       "  </tbody>\n",
       "</table>\n",
       "</div>"
      ],
      "text/plain": [
       "   sepal_length  sepal_width  petal_length  petal_width          species\n",
       "0      5.045070     2.508203      3.018024     1.164924  Iris-versicolor\n",
       "1      6.325517     2.115481      4.542052     1.413651  Iris-versicolor\n",
       "2      5.257497     3.814303      1.470660     0.395348      Iris-setosa\n",
       "3      6.675168     3.201700      5.785461     2.362764   Iris-virginica\n",
       "4      5.595237     2.678166      4.077750     1.369266  Iris-versicolor"
      ]
     },
     "execution_count": 5,
     "metadata": {},
     "output_type": "execute_result"
    }
   ],
   "source": [
    "train_dataset = IrisDataSet('./../datasets/iris-train.csv', False)\n",
    "test_dataset = IrisDataSet('./../datasets/iris-test.csv', True)\n",
    "train_dataset.df.head(5)"
   ]
  },
  {
   "cell_type": "code",
   "execution_count": 6,
   "id": "6a281c16",
   "metadata": {},
   "outputs": [
    {
     "data": {
      "text/plain": [
       "sepal_length    0\n",
       "sepal_width     4\n",
       "petal_length    8\n",
       "petal_width     0\n",
       "species         0\n",
       "dtype: int64"
      ]
     },
     "execution_count": 6,
     "metadata": {},
     "output_type": "execute_result"
    }
   ],
   "source": [
    "train_dataset.df.isna().sum()"
   ]
  },
  {
   "cell_type": "code",
   "execution_count": 7,
   "id": "5e6bbb69",
   "metadata": {},
   "outputs": [
    {
     "data": {
      "text/plain": [
       "id              0\n",
       "sepal_length    0\n",
       "sepal_width     0\n",
       "petal_length    0\n",
       "petal_width     0\n",
       "dtype: int64"
      ]
     },
     "execution_count": 7,
     "metadata": {},
     "output_type": "execute_result"
    }
   ],
   "source": [
    "test_dataset.df.isna().sum()"
   ]
  },
  {
   "cell_type": "code",
   "execution_count": 8,
   "id": "2f3c5637",
   "metadata": {},
   "outputs": [
    {
     "data": {
      "text/plain": [
       "sepal_length    0\n",
       "sepal_width     0\n",
       "petal_length    0\n",
       "petal_width     0\n",
       "species         0\n",
       "dtype: int64"
      ]
     },
     "execution_count": 8,
     "metadata": {},
     "output_type": "execute_result"
    }
   ],
   "source": [
    "train_dataset.df.fillna({'sepal_width': train_dataset.df['sepal_width'].mean(), 'petal_length': train_dataset.df['petal_length'].mean()}, inplace=True)\n",
    "train_dataset.df.isna().sum()"
   ]
  },
  {
   "cell_type": "code",
   "execution_count": 9,
   "id": "86c92bda",
   "metadata": {},
   "outputs": [],
   "source": [
    "feats = ['sepal_length', 'sepal_width', 'petal_length', 'petal_width']\n",
    "target = 'species'"
   ]
  },
  {
   "cell_type": "code",
   "execution_count": 10,
   "id": "f6e02593",
   "metadata": {},
   "outputs": [
    {
     "data": {
      "text/html": [
       "<div>\n",
       "<style scoped>\n",
       "    .dataframe tbody tr th:only-of-type {\n",
       "        vertical-align: middle;\n",
       "    }\n",
       "\n",
       "    .dataframe tbody tr th {\n",
       "        vertical-align: top;\n",
       "    }\n",
       "\n",
       "    .dataframe thead th {\n",
       "        text-align: right;\n",
       "    }\n",
       "</style>\n",
       "<table border=\"1\" class=\"dataframe\">\n",
       "  <thead>\n",
       "    <tr style=\"text-align: right;\">\n",
       "      <th></th>\n",
       "      <th>sepal_length</th>\n",
       "      <th>sepal_width</th>\n",
       "      <th>petal_length</th>\n",
       "      <th>petal_width</th>\n",
       "    </tr>\n",
       "  </thead>\n",
       "  <tbody>\n",
       "    <tr>\n",
       "      <th>0</th>\n",
       "      <td>-0.949055</td>\n",
       "      <td>-1.240306</td>\n",
       "      <td>-0.463202</td>\n",
       "      <td>-0.044399</td>\n",
       "    </tr>\n",
       "    <tr>\n",
       "      <th>1</th>\n",
       "      <td>0.544133</td>\n",
       "      <td>-2.124521</td>\n",
       "      <td>0.425495</td>\n",
       "      <td>0.273083</td>\n",
       "    </tr>\n",
       "    <tr>\n",
       "      <th>2</th>\n",
       "      <td>-0.701335</td>\n",
       "      <td>1.700380</td>\n",
       "      <td>-1.365505</td>\n",
       "      <td>-1.026709</td>\n",
       "    </tr>\n",
       "    <tr>\n",
       "      <th>3</th>\n",
       "      <td>0.951879</td>\n",
       "      <td>0.321103</td>\n",
       "      <td>1.150555</td>\n",
       "      <td>1.484559</td>\n",
       "    </tr>\n",
       "    <tr>\n",
       "      <th>4</th>\n",
       "      <td>-0.307480</td>\n",
       "      <td>-0.857634</td>\n",
       "      <td>0.154749</td>\n",
       "      <td>0.216429</td>\n",
       "    </tr>\n",
       "  </tbody>\n",
       "</table>\n",
       "</div>"
      ],
      "text/plain": [
       "   sepal_length  sepal_width  petal_length  petal_width\n",
       "0     -0.949055    -1.240306     -0.463202    -0.044399\n",
       "1      0.544133    -2.124521      0.425495     0.273083\n",
       "2     -0.701335     1.700380     -1.365505    -1.026709\n",
       "3      0.951879     0.321103      1.150555     1.484559\n",
       "4     -0.307480    -0.857634      0.154749     0.216429"
      ]
     },
     "execution_count": 10,
     "metadata": {},
     "output_type": "execute_result"
    }
   ],
   "source": [
    "scaler = StandardScaler()\n",
    "train_dataset.df[feats] = scaler.fit_transform(train_dataset.df[feats])\n",
    "test_dataset.df[feats] = scaler.transform(test_dataset.df[feats])\n",
    "train_dataset.df[feats].head(5)"
   ]
  },
  {
   "cell_type": "code",
   "execution_count": 11,
   "id": "988f0046",
   "metadata": {},
   "outputs": [
    {
     "data": {
      "text/plain": [
       "0    1\n",
       "1    1\n",
       "2    0\n",
       "3    2\n",
       "4    1\n",
       "Name: species, dtype: int64"
      ]
     },
     "execution_count": 11,
     "metadata": {},
     "output_type": "execute_result"
    }
   ],
   "source": [
    "encoder = LabelEncoder()\n",
    "train_dataset.df[target] = encoder.fit_transform(train_dataset.df[target])\n",
    "train_dataset.df[target].head(5)"
   ]
  },
  {
   "cell_type": "code",
   "execution_count": 12,
   "id": "ae73d68f",
   "metadata": {},
   "outputs": [
    {
     "data": {
      "image/png": "[encoded data removed]",
      "text/plain": [
       "<Figure size 640x480 with 2 Axes>"
      ]
     },
     "metadata": {},
     "output_type": "display_data"
    }
   ],
   "source": [
    "sns.heatmap(train_dataset.df.corr(), annot=True, cmap='magma')\n",
    "plt.show()"
   ]
  },
  {
   "cell_type": "code",
   "execution_count": 13,
   "id": "49be36c5",
   "metadata": {},
   "outputs": [],
   "source": [
    "class IrisNN(nn.Module):\n",
    "\n",
    "    def __init__(self):\n",
    "        super().__init__()\n",
    "        self.inLayer = nn.Linear(4, 16)\n",
    "        self.hidLayer = nn.Linear(16, 16)\n",
    "        self.outLayer = nn.Linear(16, 3)\n",
    "        self.relu = nn.ReLU()\n",
    "\n",
    "\n",
    "        self.linear_layers = nn.Sequential(\n",
    "            self.inLayer,\n",
    "            self.relu,\n",
    "            \n",
    "            self.hidLayer,\n",
    "            self.relu,\n",
    "\n",
    "            self.outLayer\n",
    "        )\n",
    "    \n",
    "    def forward(self, x):\n",
    "        return self.linear_layers(x)"
   ]
  },
  {
   "cell_type": "code",
   "execution_count": 14,
   "id": "f8421c75",
   "metadata": {},
   "outputs": [],
   "source": [
    "model = IrisNN().to(device)\n",
    "criterion = nn.CrossEntropyLoss().to(device)\n",
    "optimizer = optim.Adam(model.parameters(), lr=0.001)"
   ]
  },
  {
   "cell_type": "code",
   "execution_count": 15,
   "id": "31d6ea61",
   "metadata": {},
   "outputs": [],
   "source": [
    "batch_size = 16\n",
    "train_loader = DataLoader(train_dataset, batch_size, shuffle=True)\n",
    "test_loader = DataLoader(test_dataset, batch_size, shuffle=False)"
   ]
  },
  {
   "cell_type": "code",
   "execution_count": 16,
   "id": "5e49feca",
   "metadata": {},
   "outputs": [
    {
     "name": "stdout",
     "output_type": "stream",
     "text": [
      "Epoch 0 Accuracy: 0.3238095238095238\n",
      "Epoch 1 Accuracy: 0.3238095238095238\n",
      "Epoch 2 Accuracy: 0.34285714285714286\n",
      "Epoch 3 Accuracy: 0.4666666666666667\n",
      "Epoch 4 Accuracy: 0.6571428571428571\n",
      "Epoch 5 Accuracy: 0.7428571428571429\n",
      "Epoch 6 Accuracy: 0.8095238095238095\n",
      "Epoch 7 Accuracy: 0.8095238095238095\n",
      "Epoch 8 Accuracy: 0.819047619047619\n",
      "Epoch 9 Accuracy: 0.8285714285714286\n",
      "Epoch 10 Accuracy: 0.8095238095238095\n",
      "Epoch 11 Accuracy: 0.819047619047619\n",
      "Epoch 12 Accuracy: 0.819047619047619\n",
      "Epoch 13 Accuracy: 0.8285714285714286\n",
      "Epoch 14 Accuracy: 0.8285714285714286\n",
      "Epoch 15 Accuracy: 0.8285714285714286\n",
      "Epoch 16 Accuracy: 0.8476190476190476\n",
      "Epoch 17 Accuracy: 0.8571428571428571\n",
      "Epoch 18 Accuracy: 0.8571428571428571\n",
      "Epoch 19 Accuracy: 0.8666666666666667\n",
      "Epoch 20 Accuracy: 0.8666666666666667\n",
      "Epoch 21 Accuracy: 0.8571428571428571\n",
      "Epoch 22 Accuracy: 0.8571428571428571\n",
      "Epoch 23 Accuracy: 0.8666666666666667\n",
      "Epoch 24 Accuracy: 0.8761904761904762\n"
     ]
    }
   ],
   "source": [
    "num_epochs = 25\n",
    "for epoch in range(num_epochs):\n",
    "    correct = 0\n",
    "    n_samples = 0\n",
    "\n",
    "    model.train()\n",
    "\n",
    "    for inputs, labels in train_loader:\n",
    "        optimizer.zero_grad()\n",
    "        \n",
    "        inputs = inputs.to(device)\n",
    "        labels = labels.to(device)\n",
    "\n",
    "        outputs = model(inputs)\n",
    "        loss = criterion(outputs, labels)\n",
    "        loss.backward()\n",
    "        optimizer.step()\n",
    "\n",
    "        _, pred = torch.max(outputs, 1)\n",
    "        correct += (labels == pred).sum().item()\n",
    "        n_samples += len(labels)\n",
    "\n",
    "    print(f'Epoch {epoch} Accuracy: {correct / n_samples}')"
   ]
  },
  {
   "cell_type": "code",
   "execution_count": 17,
   "id": "9f7850de",
   "metadata": {},
   "outputs": [],
   "source": [
    "model.eval()\n",
    "predictions = []\n",
    "n_samples = 0\n",
    "\n",
    "with torch.no_grad():\n",
    "    for inputs in test_loader:\n",
    "        inputs = inputs.to(device)\n",
    "        outputs = model(inputs)\n",
    "\n",
    "        _, pred = torch.max(outputs, 1)\n",
    "        predictions.extend(pred.cpu().numpy())\n",
    "        n_samples += len(pred)\n",
    "\n",
    "predictions = np.array(predictions)"
   ]
  },
  {
   "cell_type": "code",
   "execution_count": 18,
   "id": "7adbc6b9",
   "metadata": {},
   "outputs": [
    {
     "data": {
      "text/html": [
       "<div>\n",
       "<style scoped>\n",
       "    .dataframe tbody tr th:only-of-type {\n",
       "        vertical-align: middle;\n",
       "    }\n",
       "\n",
       "    .dataframe tbody tr th {\n",
       "        vertical-align: top;\n",
       "    }\n",
       "\n",
       "    .dataframe thead th {\n",
       "        text-align: right;\n",
       "    }\n",
       "</style>\n",
       "<table border=\"1\" class=\"dataframe\">\n",
       "  <thead>\n",
       "    <tr style=\"text-align: right;\">\n",
       "      <th></th>\n",
       "      <th>id</th>\n",
       "      <th>species</th>\n",
       "    </tr>\n",
       "  </thead>\n",
       "  <tbody>\n",
       "    <tr>\n",
       "      <th>0</th>\n",
       "      <td>0</td>\n",
       "      <td>Iris-virginica</td>\n",
       "    </tr>\n",
       "    <tr>\n",
       "      <th>1</th>\n",
       "      <td>1</td>\n",
       "      <td>Iris-virginica</td>\n",
       "    </tr>\n",
       "    <tr>\n",
       "      <th>2</th>\n",
       "      <td>2</td>\n",
       "      <td>Iris-virginica</td>\n",
       "    </tr>\n",
       "    <tr>\n",
       "      <th>3</th>\n",
       "      <td>3</td>\n",
       "      <td>Iris-virginica</td>\n",
       "    </tr>\n",
       "    <tr>\n",
       "      <th>4</th>\n",
       "      <td>4</td>\n",
       "      <td>Iris-virginica</td>\n",
       "    </tr>\n",
       "  </tbody>\n",
       "</table>\n",
       "</div>"
      ],
      "text/plain": [
       "   id         species\n",
       "0   0  Iris-virginica\n",
       "1   1  Iris-virginica\n",
       "2   2  Iris-virginica\n",
       "3   3  Iris-virginica\n",
       "4   4  Iris-virginica"
      ]
     },
     "execution_count": 18,
     "metadata": {},
     "output_type": "execute_result"
    }
   ],
   "source": [
    "submission_df = pd.DataFrame({'id': range(len(predictions)), 'species': encoder.inverse_transform(predictions)})\n",
    "submission_df.head(5)"
   ]
  },
  {
   "cell_type": "code",
   "execution_count": 19,
   "id": "51eff67b",
   "metadata": {},
   "outputs": [],
   "source": [
    "submission_df.to_csv('./../submissions/iris-submission.csv', index=False)"
   ]
  }
 ],
 "metadata": {
  "kernelspec": {
   "display_name": ".venv",
   "language": "python",
   "name": "python3"
  },
  "language_info": {
   "codemirror_mode": {
    "name": "ipython",
    "version": 3
   },
   "file_extension": ".py",
   "mimetype": "text/x-python",
   "name": "python",
   "nbconvert_exporter": "python",
   "pygments_lexer": "ipython3",
   "version": "3.13.5"
  }
 },
 "nbformat": 4,
 "nbformat_minor": 5
}
