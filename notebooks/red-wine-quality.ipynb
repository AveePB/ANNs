{
 "cells": [
  {
   "cell_type": "markdown",
   "id": "67201f25",
   "metadata": {},
   "source": [
    "# Red Wine Quality with ANNs\n",
    "Given wine dataset contains information about Portuguese *Vinho Verde* wine. This dataset is also available from the UCI machine learning repository, https://archive.ics.uci.edu/ml/datasets/wine+quality.\n",
    "\n",
    "### Column descriptions\n",
    "- **fixed acidity**: in wine refers to the nonvolatile acids that do not evaporate easily and remain dissolved in the wine, contributing directly to its taste, structure, and freshness;\n",
    "\n",
    "- **volatile acidity**:  the amount of acetic acid in wine, which at too high of levels can lead to an unpleasant, vinegar taste;\n",
    "\n",
    "- **citric acid**: found in small quantities, citric acid can add 'freshness' and flavor to wines;\n",
    "\n",
    "- **residual sugar**: the amount of sugar remaining after fermentation stops, it's rare to find wines with less than 1 gram/liter;\n",
    "\n",
    "- **chlorides**: the amount of salt in the wine;\n",
    "\n",
    "- **free sulfur dioxide**: Unbound sulfur dioxide that protects wine from oxidation and microbes; effectiveness depends on pH;\n",
    "\n",
    "- **total sulfur dioxide**:  Sum of free and bound sulfur dioxide; high levels (>50 ppm free SO₂) can affect wine aroma and taste;\n",
    "\n",
    "- **density**: the density of wine is close to that of water depending on the percent alcohol and sugar content;\n",
    "\n",
    "\n",
    "- **pH**: describes how acidic or basic a wine is on a scale from 0 (very acidic) to 14 (very basic); most wines are between 3-4 on the pH scale;\n",
    "\n",
    "- **sulphates**: Sulphates: Wine additives that help preserve wine by contributing to SO₂ levels; act as antioxidants and antimicrobials;\n",
    "\n",
    "- **alcohol**: Ethanol content (% vol) in wine; influences body, warmth, and overall quality;\n",
    "\n",
    "- **quality**: Wine taste score rated by sensory experts, typically from 0 (worst) to 10 (best);\n",
    "\n",
    "*In this notebook we will create NN model that will rate wine on scale (3-8)!*\n"
   ]
  },
  {
   "cell_type": "markdown",
   "id": "d905b435",
   "metadata": {},
   "source": [
    "### Load wine dataset"
   ]
  },
  {
   "cell_type": "code",
   "execution_count": null,
   "id": "52ec5331",
   "metadata": {},
   "outputs": [],
   "source": [
    "import pandas as pd\n",
    "\n",
    "wine_df = pd.read_csv('./../datasets/red-wine-quality.csv')\n",
    "wine_df.head(n=5)"
   ]
  },
  {
   "cell_type": "code",
   "execution_count": null,
   "id": "60e3baea",
   "metadata": {},
   "outputs": [],
   "source": [
    "wine_df.describe()"
   ]
  },
  {
   "cell_type": "markdown",
   "id": "0f9a7b67",
   "metadata": {},
   "source": [
    "### Matrix of correlations"
   ]
  },
  {
   "cell_type": "code",
   "execution_count": null,
   "id": "d22a431d",
   "metadata": {},
   "outputs": [],
   "source": [
    "import matplotlib.pyplot as plt\n",
    "import seaborn as sns\n",
    "\n",
    "plt.figure(figsize=(10,5))\n",
    "sns.heatmap(wine_df.corr(), cmap='coolwarm', annot=True)"
   ]
  },
  {
   "cell_type": "markdown",
   "id": "d706ab45",
   "metadata": {},
   "source": [
    "There is no correlation between *quality* and *residual sugar*, *free sulfur dioxide*, *pH*."
   ]
  },
  {
   "cell_type": "code",
   "execution_count": null,
   "id": "daf60ed8",
   "metadata": {},
   "outputs": [],
   "source": [
    "wine_df.drop(columns=['residual sugar', 'free sulfur dioxide', 'pH'], inplace=True)"
   ]
  },
  {
   "cell_type": "code",
   "execution_count": null,
   "id": "5170593c",
   "metadata": {},
   "outputs": [],
   "source": [
    "wine_df.columns"
   ]
  },
  {
   "cell_type": "markdown",
   "id": "1465c237",
   "metadata": {},
   "source": [
    "### Prepare training and testing datasets"
   ]
  },
  {
   "cell_type": "code",
   "execution_count": null,
   "id": "a1b9d4af",
   "metadata": {},
   "outputs": [],
   "source": [
    "from sklearn.model_selection import train_test_split\n",
    "\n",
    "features = ['fixed acidity', 'volatile acidity', 'citric acid', 'chlorides',\n",
    "       'total sulfur dioxide', 'density', 'sulphates', 'alcohol']\n",
    "target = 'quality'\n",
    "\n",
    "X = wine_df[features]\n",
    "y = wine_df[target]\n",
    "\n",
    "X_train, X_test, y_train, y_test = train_test_split(X, y, test_size=0.2, random_state=32, shuffle=True)"
   ]
  },
  {
   "cell_type": "markdown",
   "id": "ad8c40ff",
   "metadata": {},
   "source": [
    "Apply scaling to features"
   ]
  },
  {
   "cell_type": "code",
   "execution_count": null,
   "id": "dbdf8ed3",
   "metadata": {},
   "outputs": [],
   "source": [
    "from sklearn.preprocessing import StandardScaler\n",
    "\n",
    "scaler = StandardScaler()\n",
    "X_train = scaler.fit_transform(X_train)\n",
    "X_test = scaler.transform(X_test)"
   ]
  },
  {
   "cell_type": "markdown",
   "id": "0f037504",
   "metadata": {},
   "source": [
    "Create tensors"
   ]
  },
  {
   "cell_type": "code",
   "execution_count": null,
   "id": "ea5be239",
   "metadata": {},
   "outputs": [],
   "source": [
    "from torch.utils.data import DataLoader, TensorDataset\n",
    "import torch\n",
    "\n",
    "X_train = torch.tensor(X_train, dtype=torch.float32)\n",
    "X_test = torch.tensor(X_test, dtype=torch.float32)\n",
    "y_train = torch.tensor(y_train.values, dtype=torch.float32).view(-1, 1)\n",
    "y_test = torch.tensor(y_test.values, dtype=torch.float32).view(-1, 1)\n",
    "\n",
    "train_dataset = TensorDataset(X_train, y_train)\n",
    "test_dataset = TensorDataset(X_test, y_test)\n",
    "\n",
    "train_loader = DataLoader(train_dataset, 128, True)\n",
    "test_loader = DataLoader(test_dataset, 32, True) "
   ]
  },
  {
   "cell_type": "markdown",
   "id": "00083e46",
   "metadata": {},
   "source": [
    "### Create Wine Neural Network"
   ]
  },
  {
   "cell_type": "code",
   "execution_count": null,
   "id": "c3160342",
   "metadata": {},
   "outputs": [],
   "source": [
    "import torch.nn as nn\n",
    "\n",
    "class WineNN(nn.Module):\n",
    "\n",
    "    def __init__(self):\n",
    "        super().__init__()\n",
    "        \n",
    "        self.layers = nn.Sequential(\n",
    "            nn.Linear(8, 64),\n",
    "            nn.ReLU(),\n",
    "\n",
    "            nn.Linear(64, 16),\n",
    "            nn.ReLU(),\n",
    "\n",
    "            nn.Linear(16, 1)\n",
    "        )\n",
    "\n",
    "    def forward(self, x):\n",
    "        return self.layers(x)"
   ]
  },
  {
   "cell_type": "code",
   "execution_count": null,
   "id": "8a1a3098",
   "metadata": {},
   "outputs": [],
   "source": [
    "model = WineNN()"
   ]
  },
  {
   "cell_type": "markdown",
   "id": "85b18481",
   "metadata": {},
   "source": [
    "### Train Neural Network Model"
   ]
  },
  {
   "cell_type": "code",
   "execution_count": null,
   "id": "d636de00",
   "metadata": {},
   "outputs": [],
   "source": [
    "import torch.optim as optim\n",
    "\n",
    "criterion = nn.MSELoss()\n",
    "optimizer = optim.Adam(model.parameters(), lr=0.001)"
   ]
  },
  {
   "cell_type": "code",
   "execution_count": null,
   "id": "7bba08a0",
   "metadata": {},
   "outputs": [],
   "source": [
    "n_epochs = 100\n",
    "\n",
    "for _ in range(n_epochs):\n",
    "    model.train()\n",
    "\n",
    "    for x_batch, y_batch in train_loader:\n",
    "        optimizer.zero_grad()\n",
    "        outputs = model(x_batch)\n",
    "        loss = criterion(outputs, y_batch)\n",
    "        \n",
    "        loss.backward()\n",
    "\n",
    "        optimizer.step()\n"
   ]
  },
  {
   "cell_type": "markdown",
   "id": "074894c9",
   "metadata": {},
   "source": [
    "### Evaluate Neural Network Model"
   ]
  },
  {
   "cell_type": "code",
   "execution_count": null,
   "id": "4607423a",
   "metadata": {},
   "outputs": [],
   "source": [
    "import numpy as np \n",
    "\n",
    "model.eval()\n",
    "n_elements = 0\n",
    "absolute_error = 0\n",
    "squarred_error = 0\n",
    "\n",
    "y_true = []\n",
    "y_pred = []\n",
    "\n",
    "with torch.no_grad():\n",
    "    for x_batch, y_batch in test_loader:\n",
    "        outputs = model(x_batch)\n",
    "\n",
    "        n_elements += len(y_batch)\n",
    "        squarred_error += ((y_batch - outputs)**2).sum().item()\n",
    "        absolute_error += (y_batch - outputs).abs().sum().item()\n",
    "        \n",
    "        y_true.extend(y_batch.numpy().reshape(-1))\n",
    "        y_pred.extend(outputs.numpy().reshape(-1))\n",
    "\n",
    "y_true = np.array(y_true)\n",
    "y_pred = np.array(y_pred)"
   ]
  },
  {
   "cell_type": "code",
   "execution_count": null,
   "id": "072aa1e5",
   "metadata": {},
   "outputs": [],
   "source": [
    "plt.scatter(y_true, y_pred)"
   ]
  },
  {
   "cell_type": "code",
   "execution_count": null,
   "id": "7cd79f7b",
   "metadata": {},
   "outputs": [],
   "source": [
    "print('Mean Squarred Error:', (squarred_error /  n_elements))\n",
    "print('Mean Absolute Error:', (absolute_error /  n_elements))\n"
   ]
  }
 ],
 "metadata": {
  "kernelspec": {
   "display_name": ".venv (3.12.2)",
   "language": "python",
   "name": "python3"
  },
  "language_info": {
   "codemirror_mode": {
    "name": "ipython",
    "version": 3
   },
   "file_extension": ".py",
   "mimetype": "text/x-python",
   "name": "python",
   "nbconvert_exporter": "python",
   "pygments_lexer": "ipython3",
   "version": "3.12.2"
  }
 },
 "nbformat": 4,
 "nbformat_minor": 5
}
