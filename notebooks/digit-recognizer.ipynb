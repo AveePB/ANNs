{
 "cells": [
  {
   "cell_type": "markdown",
   "id": "6327652b",
   "metadata": {},
   "source": [
    "# Digit Recognizer\n",
    "**MNIS** (\"*Modified National Institute of Standards and Technology*\") is the de facto “hello world” dataset of computer vision. Since its release in 1999, this classic dataset of handwritten images has served as the basis for benchmarking classification algorithms.\n",
    "\n",
    "### Image Description\n",
    "Each image is 28 pixels in height and 28 pixels in width, for a total of 784 pixels in total. Each pixel has a single pixel-value associated with it, indicating the lightness or darkness of that pixel, with higher numbers meaning darker. This pixel-value is an integer between 0 and 255, inclusive.\n",
    "\n",
    "### Dataset Info\n",
    "The training data set, (train.csv), has 785 columns. The first column, called \"label\", is the digit that was drawn by the user. The rest of the columns contain the pixel-values of the associated image."
   ]
  },
  {
   "cell_type": "code",
   "execution_count": 1,
   "id": "204dfd66",
   "metadata": {},
   "outputs": [],
   "source": [
    "import torch\n",
    "import torch.nn as nn\n",
    "import torch.optim as optim\n",
    "import torchvision\n",
    "import torchvision.transforms as transforms\n",
    "from torch.utils.data import DataLoader, Dataset\n",
    "\n",
    "import matplotlib.pyplot as plt\n",
    "import pandas as pd\n",
    "import numpy as np\n"
   ]
  },
  {
   "cell_type": "code",
   "execution_count": 2,
   "id": "f9ce6bf7",
   "metadata": {},
   "outputs": [
    {
     "data": {
      "text/plain": [
       "device(type='cuda')"
      ]
     },
     "execution_count": 2,
     "metadata": {},
     "output_type": "execute_result"
    }
   ],
   "source": [
    "device = torch.device('cuda' if torch.cuda.is_available() else 'cpu')\n",
    "device"
   ]
  },
  {
   "cell_type": "code",
   "execution_count": 3,
   "id": "d582ea7b",
   "metadata": {},
   "outputs": [],
   "source": [
    "class DigitDataset(Dataset):\n",
    "\n",
    "    def __init__(self, csv_file, is_test, transform=None):\n",
    "        super().__init__()\n",
    "\n",
    "        self.df = pd.read_csv(csv_file)\n",
    "        self.transform = transform\n",
    "        self.is_test = is_test\n",
    "\n",
    "    def __len__(self):\n",
    "        return len(self.df)\n",
    "    \n",
    "    def __getitem__(self, index):\n",
    "        item = self.df.iloc[index]\n",
    "\n",
    "        if self.is_test:\n",
    "            image = item.values.reshape(28, 28).astype(np.float16)\n",
    "            label = None\n",
    "        \n",
    "        else:\n",
    "            image = item[1:].values.reshape(28, 28).astype(np.float16)\n",
    "            label = item.iloc[0]\n",
    "\n",
    "        if self.transform is not None:\n",
    "            image = self.transform(image)\n",
    "        \n",
    "        if self.is_test:\n",
    "            return image\n",
    "        \n",
    "        else:\n",
    "            return image, label"
   ]
  },
  {
   "cell_type": "code",
   "execution_count": 4,
   "id": "e2a38b45",
   "metadata": {},
   "outputs": [],
   "source": [
    "transform = transforms.Compose([\n",
    "    transforms.ToPILImage(),\n",
    "    transforms.RandomRotation(15),\n",
    "    transforms.ToTensor(),\n",
    "    transforms.Normalize((0.5,), (0.5,))\n",
    "])\n"
   ]
  },
  {
   "cell_type": "code",
   "execution_count": 5,
   "id": "df759cdf",
   "metadata": {},
   "outputs": [],
   "source": [
    "train_dataset = DigitDataset('./../datasets/digit-recognizer-train.csv', False, transform)\n",
    "test_dataset = DigitDataset('./../datasets/digit-recognizer-test.csv', True, transform)"
   ]
  },
  {
   "cell_type": "code",
   "execution_count": 6,
   "id": "ca8db932",
   "metadata": {},
   "outputs": [],
   "source": [
    "batch_size = 64\n",
    "train_loader = DataLoader(train_dataset, batch_size, True)\n",
    "test_loader = DataLoader(test_dataset, batch_size, False)"
   ]
  },
  {
   "cell_type": "code",
   "execution_count": 7,
   "id": "802c90ff",
   "metadata": {},
   "outputs": [
    {
     "name": "stdout",
     "output_type": "stream",
     "text": [
      "Input size: torch.Size([1, 28, 28])\n"
     ]
    },
    {
     "data": {
      "image/png": "[encoded data removed]",
      "text/plain": [
       "<Figure size 640x480 with 1 Axes>"
      ]
     },
     "metadata": {},
     "output_type": "display_data"
    }
   ],
   "source": [
    "import random\n",
    "data = random.choice(train_dataset)\n",
    "label = data[1]\n",
    "image = data[0]\n",
    "\n",
    "print('Input size:', image.size())\n",
    "numpy_img = image.numpy()\n",
    "\n",
    "plt.imshow(numpy_img.squeeze())\n",
    "plt.title(f'Label: {label}')\n",
    "plt.show()"
   ]
  },
  {
   "cell_type": "code",
   "execution_count": 41,
   "id": "51f4fea4",
   "metadata": {},
   "outputs": [],
   "source": [
    "class DigitNN(nn.Module):\n",
    "\n",
    "    def __init__(self):\n",
    "        super().__init__()\n",
    "        self.conv_layers = nn.Sequential(\n",
    "            nn.Conv2d(1, 32, 3), \n",
    "            nn.ReLU(),\n",
    "            nn.MaxPool2d(2, 2),\n",
    "\n",
    "            nn.Conv2d(32, 64, 3), \n",
    "            nn.ReLU(),\n",
    "            nn.MaxPool2d(2, 2),\n",
    "\n",
    "            nn.Conv2d(64, 128, 3),\n",
    "            nn.ReLU(),\n",
    "            nn.MaxPool2d(2, 1)\n",
    "        )\n",
    "\n",
    "        self.linear_layers = nn.Sequential(\n",
    "            nn.Flatten(),\n",
    "            nn.Linear(512, 256),\n",
    "            nn.ReLU(),\n",
    "\n",
    "            nn.Linear(256, 128),\n",
    "            nn.ReLU(),\n",
    "\n",
    "            nn.Linear(128, 10)         \n",
    "        )\n",
    "    \n",
    "    def forward(self, x):\n",
    "        x = self.conv_layers(x)\n",
    "        return self.linear_layers(x)"
   ]
  },
  {
   "cell_type": "code",
   "execution_count": 42,
   "id": "f138c3fd",
   "metadata": {},
   "outputs": [],
   "source": [
    "model = DigitNN().to(device)\n",
    "criterion = nn.CrossEntropyLoss().to(device)\n",
    "optimizer = optim.SGD(model.parameters())"
   ]
  },
  {
   "cell_type": "code",
   "execution_count": 43,
   "id": "62480614",
   "metadata": {},
   "outputs": [
    {
     "name": "stdout",
     "output_type": "stream",
     "text": [
      "Epoch 1, total loss: 1512.2525250911713, accuracy: 0.11233333333333333\n",
      "Epoch 2, total loss: 1511.9175992012024, accuracy: 0.14364285714285716\n",
      "Epoch 3, total loss: 1511.6369361877441, accuracy: 0.1155\n",
      "Epoch 4, total loss: 1511.3871870040894, accuracy: 0.11188095238095239\n",
      "Epoch 5, total loss: 1511.1476650238037, accuracy: 0.11164285714285714\n",
      "Epoch 6, total loss: 1510.9262330532074, accuracy: 0.11157142857142857\n",
      "Epoch 7, total loss: 1510.7190072536469, accuracy: 0.11152380952380953\n",
      "Epoch 8, total loss: 1510.5029802322388, accuracy: 0.11152380952380953\n",
      "Epoch 9, total loss: 1510.2844455242157, accuracy: 0.11152380952380953\n",
      "Epoch 10, total loss: 1510.0641572475433, accuracy: 0.11152380952380953\n",
      "Epoch 11, total loss: 1509.8104708194733, accuracy: 0.11152380952380953\n",
      "Epoch 12, total loss: 1509.5781331062317, accuracy: 0.11154761904761905\n",
      "Epoch 13, total loss: 1509.2898395061493, accuracy: 0.11152380952380953\n",
      "Epoch 14, total loss: 1508.9744942188263, accuracy: 0.11152380952380953\n",
      "Epoch 15, total loss: 1508.5946216583252, accuracy: 0.11166666666666666\n",
      "Epoch 16, total loss: 1508.1872506141663, accuracy: 0.11226190476190476\n",
      "Epoch 17, total loss: 1507.6683452129364, accuracy: 0.11419047619047619\n",
      "Epoch 18, total loss: 1507.1374864578247, accuracy: 0.11592857142857142\n",
      "Epoch 19, total loss: 1506.4960629940033, accuracy: 0.12347619047619048\n",
      "Epoch 20, total loss: 1505.718867301941, accuracy: 0.13502380952380952\n",
      "Epoch 21, total loss: 1504.7785744667053, accuracy: 0.1443809523809524\n",
      "Epoch 22, total loss: 1503.6513690948486, accuracy: 0.15873809523809523\n",
      "Epoch 23, total loss: 1502.2852494716644, accuracy: 0.17102380952380952\n",
      "Epoch 24, total loss: 1500.5247640609741, accuracy: 0.18695238095238095\n",
      "Epoch 25, total loss: 1498.2639977931976, accuracy: 0.19614285714285715\n",
      "Epoch 26, total loss: 1495.1952130794525, accuracy: 0.20909523809523808\n",
      "Epoch 27, total loss: 1490.9921433925629, accuracy: 0.22028571428571428\n",
      "Epoch 28, total loss: 1485.0756092071533, accuracy: 0.23042857142857143\n",
      "Epoch 29, total loss: 1476.172462463379, accuracy: 0.23426190476190475\n",
      "Epoch 30, total loss: 1462.3694114685059, accuracy: 0.23552380952380952\n",
      "Epoch 31, total loss: 1440.4112060070038, accuracy: 0.23466666666666666\n",
      "Epoch 32, total loss: 1404.9398391246796, accuracy: 0.23633333333333334\n",
      "Epoch 33, total loss: 1359.4754880666733, accuracy: 0.25452380952380954\n",
      "Epoch 34, total loss: 1318.9779195785522, accuracy: 0.30047619047619045\n",
      "Epoch 35, total loss: 1289.2709540128708, accuracy: 0.320047619047619\n",
      "Epoch 36, total loss: 1263.661503314972, accuracy: 0.34104761904761904\n",
      "Epoch 37, total loss: 1236.402801990509, accuracy: 0.3653095238095238\n",
      "Epoch 38, total loss: 1202.7221148014069, accuracy: 0.39230952380952383\n",
      "Epoch 39, total loss: 1161.0254641771317, accuracy: 0.4182619047619048\n",
      "Epoch 40, total loss: 1113.2084839344025, accuracy: 0.4467857142857143\n",
      "Epoch 41, total loss: 1061.916254043579, accuracy: 0.4715952380952381\n",
      "Epoch 42, total loss: 1003.6771876811981, accuracy: 0.5011666666666666\n",
      "Epoch 43, total loss: 938.4714525938034, accuracy: 0.5310238095238096\n",
      "Epoch 44, total loss: 874.0363738536835, accuracy: 0.5619761904761905\n",
      "Epoch 45, total loss: 814.4002168774605, accuracy: 0.5877142857142857\n",
      "Epoch 46, total loss: 762.2113409638405, accuracy: 0.611904761904762\n",
      "Epoch 47, total loss: 718.6564283370972, accuracy: 0.6319761904761905\n",
      "Epoch 48, total loss: 679.4176401495934, accuracy: 0.6475952380952381\n",
      "Epoch 49, total loss: 643.3480056524277, accuracy: 0.6642619047619047\n",
      "Epoch 50, total loss: 611.9206772446632, accuracy: 0.6811190476190476\n",
      "Epoch 51, total loss: 581.771318256855, accuracy: 0.6961666666666667\n",
      "Epoch 52, total loss: 552.6631124615669, accuracy: 0.7132619047619048\n",
      "Epoch 53, total loss: 528.2917392253876, accuracy: 0.7263095238095238\n",
      "Epoch 54, total loss: 505.07100784778595, accuracy: 0.741452380952381\n",
      "Epoch 55, total loss: 481.0269666314125, accuracy: 0.754547619047619\n",
      "Epoch 56, total loss: 456.1912756860256, accuracy: 0.7722142857142857\n",
      "Epoch 57, total loss: 435.08014523983, accuracy: 0.7825714285714286\n",
      "Epoch 58, total loss: 414.3758670389652, accuracy: 0.7973809523809524\n",
      "Epoch 59, total loss: 397.56399112939835, accuracy: 0.8030714285714285\n",
      "Epoch 60, total loss: 380.1623544692993, accuracy: 0.8119285714285714\n",
      "Epoch 61, total loss: 364.8316675722599, accuracy: 0.8204523809523809\n",
      "Epoch 62, total loss: 352.20109125971794, accuracy: 0.8261904761904761\n",
      "Epoch 63, total loss: 340.8832770884037, accuracy: 0.8307380952380953\n",
      "Epoch 64, total loss: 329.3370414227247, accuracy: 0.8365714285714285\n",
      "Epoch 65, total loss: 316.7721078544855, accuracy: 0.8437857142857143\n",
      "Epoch 66, total loss: 312.64143842458725, accuracy: 0.8462380952380952\n",
      "Epoch 67, total loss: 301.84361413121223, accuracy: 0.8507380952380953\n",
      "Epoch 68, total loss: 290.71511736512184, accuracy: 0.857547619047619\n",
      "Epoch 69, total loss: 285.61887922883034, accuracy: 0.859452380952381\n",
      "Epoch 70, total loss: 277.3509557247162, accuracy: 0.862452380952381\n",
      "Epoch 71, total loss: 270.96966610848904, accuracy: 0.8670952380952381\n",
      "Epoch 72, total loss: 261.97450868040323, accuracy: 0.8713809523809524\n",
      "Epoch 73, total loss: 257.04036907851696, accuracy: 0.8740952380952381\n",
      "Epoch 74, total loss: 249.51072324812412, accuracy: 0.8789047619047619\n",
      "Epoch 75, total loss: 245.57864245772362, accuracy: 0.8817142857142857\n",
      "Epoch 76, total loss: 238.89429185539484, accuracy: 0.8821904761904762\n",
      "Epoch 77, total loss: 232.1696194857359, accuracy: 0.8861666666666667\n",
      "Epoch 78, total loss: 228.44880501925945, accuracy: 0.8883333333333333\n",
      "Epoch 79, total loss: 223.70572482049465, accuracy: 0.8903571428571428\n",
      "Epoch 80, total loss: 217.9879457950592, accuracy: 0.8943333333333333\n",
      "Epoch 81, total loss: 210.3317633792758, accuracy: 0.8985\n",
      "Epoch 82, total loss: 210.1146861091256, accuracy: 0.8971666666666667\n",
      "Epoch 83, total loss: 204.72878139466047, accuracy: 0.9014047619047619\n",
      "Epoch 84, total loss: 201.70526181906462, accuracy: 0.9026190476190477\n",
      "Epoch 85, total loss: 197.13297554850578, accuracy: 0.9032142857142857\n",
      "Epoch 86, total loss: 195.2064023092389, accuracy: 0.9058095238095238\n",
      "Epoch 87, total loss: 189.31523971259594, accuracy: 0.9086904761904762\n",
      "Epoch 88, total loss: 186.77799194306135, accuracy: 0.9088809523809523\n",
      "Epoch 89, total loss: 184.54053477942944, accuracy: 0.9100238095238096\n",
      "Epoch 90, total loss: 180.99246780574322, accuracy: 0.9134285714285715\n",
      "Epoch 91, total loss: 178.29004406183958, accuracy: 0.9127142857142857\n",
      "Epoch 92, total loss: 174.25999503582716, accuracy: 0.9165\n",
      "Epoch 93, total loss: 173.40518748015165, accuracy: 0.9158333333333334\n",
      "Epoch 94, total loss: 170.01298685371876, accuracy: 0.9175476190476191\n",
      "Epoch 95, total loss: 167.66575215384364, accuracy: 0.9188571428571428\n",
      "Epoch 96, total loss: 163.5100828036666, accuracy: 0.9204761904761904\n",
      "Epoch 97, total loss: 163.3858224079013, accuracy: 0.9207380952380952\n",
      "Epoch 98, total loss: 160.12596748024225, accuracy: 0.9233571428571429\n",
      "Epoch 99, total loss: 158.22668413817883, accuracy: 0.9228333333333333\n",
      "Epoch 100, total loss: 155.952327914536, accuracy: 0.9256666666666666\n"
     ]
    }
   ],
   "source": [
    "num_epochs = 100\n",
    "\n",
    "for epoch in range(num_epochs):\n",
    "    total_loss = 0\n",
    "    n_elements = 0\n",
    "    n_correct = 0 \n",
    "\n",
    "    for x_batch, y_batch in train_loader:\n",
    "        x_batch = x_batch.to(device)\n",
    "        y_batch = y_batch.to(device)\n",
    "        optimizer.zero_grad()\n",
    "\n",
    "        outputs = model(x_batch)\n",
    "        loss = criterion(outputs, y_batch)\n",
    "\n",
    "        loss.backward()\n",
    "        optimizer.step()\n",
    "\n",
    "        total_loss += loss.item()\n",
    "        _, pred = torch.max(outputs, 1)\n",
    "        n_correct += (y_batch == pred).sum().item()\n",
    "        n_elements += len(y_batch)\n",
    "\n",
    "\n",
    "    print(f\"Epoch {epoch+1}, total loss: {total_loss}, accuracy: {n_correct/n_elements}\")"
   ]
  },
  {
   "cell_type": "code",
   "execution_count": 46,
   "id": "86f8b5d5",
   "metadata": {},
   "outputs": [],
   "source": [
    "predictions = []\n",
    "with torch.no_grad():\n",
    "    for x_batch in test_loader:\n",
    "        x_batch = x_batch.to(device)\n",
    "        outputs = model(x_batch)\n",
    "\n",
    "        _, pred = torch.max(outputs, 1)\n",
    "        predictions.extend(pred.cpu().numpy())\n",
    "        \n",
    "predictions = np.array(predictions)"
   ]
  },
  {
   "cell_type": "code",
   "execution_count": 50,
   "id": "b7cda942",
   "metadata": {},
   "outputs": [],
   "source": [
    "df_submission = pd.DataFrame({'ImageId': np.array([i+1 for i in range(len(predictions))]), 'Label': predictions})\n",
    "df_submission.to_csv('./../submissions/digit-recognizer-submission.csv', index=False)"
   ]
  },
  {
   "cell_type": "markdown",
   "id": "5e0c5968",
   "metadata": {},
   "source": [
    "### Score\n",
    "This approach allowed us to score 0.91 on public :D"
   ]
  }
 ],
 "metadata": {
  "kernelspec": {
   "display_name": ".venv",
   "language": "python",
   "name": "python3"
  },
  "language_info": {
   "codemirror_mode": {
    "name": "ipython",
    "version": 3
   },
   "file_extension": ".py",
   "mimetype": "text/x-python",
   "name": "python",
   "nbconvert_exporter": "python",
   "pygments_lexer": "ipython3",
   "version": "3.13.5"
  }
 },
 "nbformat": 4,
 "nbformat_minor": 5
}
