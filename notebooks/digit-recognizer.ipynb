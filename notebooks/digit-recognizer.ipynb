{
 "cells": [
  {
   "cell_type": "markdown",
   "id": "6327652b",
   "metadata": {},
   "source": [
    "# Digit Recognizer\n",
    "**MNIS** (\"*Modified National Institute of Standards and Technology*\") is the de facto “hello world” dataset of computer vision. Since its release in 1999, this classic dataset of handwritten images has served as the basis for benchmarking classification algorithms.\n",
    "\n",
    "### Image Description\n",
    "Each image is 28 pixels in height and 28 pixels in width, for a total of 784 pixels in total. Each pixel has a single pixel-value associated with it, indicating the lightness or darkness of that pixel, with higher numbers meaning darker. This pixel-value is an integer between 0 and 255, inclusive.\n",
    "\n",
    "### Dataset Info\n",
    "The training data set, (train.csv), has 785 columns. The first column, called \"label\", is the digit that was drawn by the user. The rest of the columns contain the pixel-values of the associated image."
   ]
  },
  {
   "cell_type": "code",
   "execution_count": null,
   "id": "204dfd66",
   "metadata": {},
   "outputs": [],
   "source": [
    "import torch\n",
    "import torch.nn as nn\n",
    "import torch.optim as optim\n",
    "import torchvision.transforms as transforms\n",
    "from torch.utils.data import DataLoader, Dataset\n",
    "\n",
    "import matplotlib.pyplot as plt\n",
    "import pandas as pd\n",
    "import numpy as np\n"
   ]
  },
  {
   "cell_type": "code",
   "execution_count": 2,
   "id": "f9ce6bf7",
   "metadata": {},
   "outputs": [
    {
     "data": {
      "text/plain": [
       "device(type='cuda')"
      ]
     },
     "execution_count": 2,
     "metadata": {},
     "output_type": "execute_result"
    }
   ],
   "source": [
    "device = torch.device('cuda' if torch.cuda.is_available() else 'cpu')\n",
    "device"
   ]
  },
  {
   "cell_type": "code",
   "execution_count": 3,
   "id": "d582ea7b",
   "metadata": {},
   "outputs": [],
   "source": [
    "class DigitDataset(Dataset):\n",
    "\n",
    "    def __init__(self, csv_file, is_test, transform=None):\n",
    "        super().__init__()\n",
    "\n",
    "        self.df = pd.read_csv(csv_file)\n",
    "        self.transform = transform\n",
    "        self.is_test = is_test\n",
    "\n",
    "    def __len__(self):\n",
    "        return len(self.df)\n",
    "    \n",
    "    def __getitem__(self, index):\n",
    "        item = self.df.iloc[index]\n",
    "\n",
    "        if self.is_test:\n",
    "            image = item.values.reshape(28, 28).astype(np.float16)\n",
    "            label = None\n",
    "        \n",
    "        else:\n",
    "            image = item[1:].values.reshape(28, 28).astype(np.float16)\n",
    "            label = item.iloc[0]\n",
    "\n",
    "        if self.transform is not None:\n",
    "            image = self.transform(image)\n",
    "        \n",
    "        if self.is_test:\n",
    "            return image\n",
    "        \n",
    "        else:\n",
    "            return image, label"
   ]
  },
  {
   "cell_type": "code",
   "execution_count": 4,
   "id": "e2a38b45",
   "metadata": {},
   "outputs": [],
   "source": [
    "transform = transforms.Compose([\n",
    "    transforms.ToPILImage(),\n",
    "    transforms.RandomRotation(15),\n",
    "    transforms.ToTensor(),\n",
    "    transforms.Normalize((0.5,), (0.5,))\n",
    "])\n"
   ]
  },
  {
   "cell_type": "code",
   "execution_count": 5,
   "id": "df759cdf",
   "metadata": {},
   "outputs": [],
   "source": [
    "train_dataset = DigitDataset('./../datasets/digit-recognizer-train.csv', False, transform)\n",
    "test_dataset = DigitDataset('./../datasets/digit-recognizer-test.csv', True, transform)"
   ]
  },
  {
   "cell_type": "code",
   "execution_count": 6,
   "id": "ca8db932",
   "metadata": {},
   "outputs": [],
   "source": [
    "batch_size = 64\n",
    "train_loader = DataLoader(train_dataset, batch_size, True)\n",
    "test_loader = DataLoader(test_dataset, batch_size, False)"
   ]
  },
  {
   "cell_type": "code",
   "execution_count": 7,
   "id": "802c90ff",
   "metadata": {},
   "outputs": [
    {
     "name": "stdout",
     "output_type": "stream",
     "text": [
      "Input size: torch.Size([1, 28, 28])\n"
     ]
    },
    {
     "data": {
      "image/png": "[encoded data removed]",
      "text/plain": [
       "<Figure size 640x480 with 1 Axes>"
      ]
     },
     "metadata": {},
     "output_type": "display_data"
    }
   ],
   "source": [
    "import random\n",
    "data = random.choice(train_dataset)\n",
    "label = data[1]\n",
    "image = data[0]\n",
    "\n",
    "print('Input size:', image.size())\n",
    "numpy_img = image.numpy()\n",
    "\n",
    "plt.imshow(numpy_img.squeeze())\n",
    "plt.title(f'Label: {label}')\n",
    "plt.show()"
   ]
  },
  {
   "cell_type": "code",
   "execution_count": 25,
   "id": "51f4fea4",
   "metadata": {},
   "outputs": [],
   "source": [
    "class DigitNN(nn.Module):\n",
    "\n",
    "    def __init__(self):\n",
    "        super().__init__()\n",
    "        self.conv_layers = nn.Sequential(\n",
    "            nn.Conv2d(1, 32, 5), \n",
    "            nn.ReLU(),\n",
    "            nn.MaxPool2d(3, 3),\n",
    "\n",
    "            nn.Conv2d(32, 64, 3), \n",
    "            nn.ReLU(),\n",
    "            nn.MaxPool2d(2, 2),\n",
    "        )\n",
    "\n",
    "        self.linear_layers = nn.Sequential(\n",
    "            nn.Flatten(),\n",
    "            nn.Linear(64*3*3, 256),\n",
    "            nn.ReLU(),\n",
    "\n",
    "            nn.Dropout(0.3),\n",
    "            nn.Linear(256, 128),\n",
    "            nn.ReLU(),\n",
    "\n",
    "            nn.Linear(128, 10)         \n",
    "        )\n",
    "    \n",
    "    def forward(self, x):\n",
    "        x = self.conv_layers(x)\n",
    "        return self.linear_layers(x)"
   ]
  },
  {
   "cell_type": "code",
   "execution_count": 28,
   "id": "f138c3fd",
   "metadata": {},
   "outputs": [],
   "source": [
    "model = DigitNN().to(device)\n",
    "criterion = nn.CrossEntropyLoss().to(device)\n",
    "optimizer = optim.Adam(model.parameters())"
   ]
  },
  {
   "cell_type": "code",
   "execution_count": null,
   "id": "62480614",
   "metadata": {},
   "outputs": [
    {
     "name": "stdout",
     "output_type": "stream",
     "text": [
      "Epoch 1, total loss: 457.2413968294859, accuracy: 0.762\n",
      "Epoch 2, total loss: 164.96635211259127, accuracy: 0.9195\n",
      "Epoch 3, total loss: 127.68819249793887, accuracy: 0.9365476190476191\n",
      "Epoch 4, total loss: 111.2580810636282, accuracy: 0.9450952380952381\n",
      "Epoch 5, total loss: 97.90333319455385, accuracy: 0.9516428571428571\n"
     ]
    }
   ],
   "source": [
    "num_epochs = 20\n",
    "\n",
    "for epoch in range(num_epochs):\n",
    "    total_loss = 0\n",
    "    n_elements = 0\n",
    "    n_correct = 0 \n",
    "\n",
    "    for x_batch, y_batch in train_loader:\n",
    "        x_batch = x_batch.to(device)\n",
    "        y_batch = y_batch.to(device)\n",
    "        optimizer.zero_grad()\n",
    "\n",
    "        outputs = model(x_batch)\n",
    "        loss = criterion(outputs, y_batch)\n",
    "\n",
    "        loss.backward()\n",
    "        optimizer.step()\n",
    "\n",
    "        total_loss += loss.item()\n",
    "        _, pred = torch.max(outputs, 1)\n",
    "        n_correct += (y_batch == pred).sum().item()\n",
    "        n_elements += len(y_batch)\n",
    "\n",
    "\n",
    "    print(f\"Epoch {epoch+1}, total loss: {total_loss}, accuracy: {n_correct/n_elements}\")"
   ]
  },
  {
   "cell_type": "code",
   "execution_count": null,
   "id": "86f8b5d5",
   "metadata": {},
   "outputs": [],
   "source": [
    "predictions = []\n",
    "with torch.no_grad():\n",
    "    for x_batch in test_loader:\n",
    "        x_batch = x_batch.to(device)\n",
    "        outputs = model(x_batch)\n",
    "\n",
    "        _, pred = torch.max(outputs, 1)\n",
    "        predictions.extend(pred.cpu().numpy())\n",
    "        \n",
    "predictions = np.array(predictions)"
   ]
  },
  {
   "cell_type": "code",
   "execution_count": null,
   "id": "b7cda942",
   "metadata": {},
   "outputs": [],
   "source": [
    "df_submission = pd.DataFrame({'ImageId': np.array([i+1 for i in range(len(predictions))]), 'Label': predictions})\n",
    "df_submission.to_csv('./../submissions/digit-recognizer-submission.csv', index=False)"
   ]
  },
  {
   "cell_type": "markdown",
   "id": "5e0c5968",
   "metadata": {},
   "source": [
    "### Score\n",
    "This approach allowed us to score 0.91 on public :D"
   ]
  }
 ],
 "metadata": {
  "kernelspec": {
   "display_name": ".venv",
   "language": "python",
   "name": "python3"
  },
  "language_info": {
   "codemirror_mode": {
    "name": "ipython",
    "version": 3
   },
   "file_extension": ".py",
   "mimetype": "text/x-python",
   "name": "python",
   "nbconvert_exporter": "python",
   "pygments_lexer": "ipython3",
   "version": "3.13.5"
  }
 },
 "nbformat": 4,
 "nbformat_minor": 5
}
