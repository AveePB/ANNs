{
 "cells": [
  {
   "cell_type": "markdown",
   "id": "283841a6",
   "metadata": {},
   "source": [
    "# Iris with Artificial Neural Networks\n",
    "ANNs are a class of ML models inspired by the structure and function of the human brain. In this notebook, we will implement ANN to solve popular **iris classification problem**."
   ]
  },
  {
   "cell_type": "markdown",
   "id": "84f05f27",
   "metadata": {},
   "source": [
    "### Import libraries"
   ]
  },
  {
   "cell_type": "markdown",
   "id": "b9dc941e",
   "metadata": {},
   "source": [
    "### Load Iris dataset"
   ]
  },
  {
   "cell_type": "markdown",
   "id": "e1cc93da",
   "metadata": {},
   "source": [
    "### Prepare data"
   ]
  },
  {
   "cell_type": "markdown",
   "id": "a17be23e",
   "metadata": {},
   "source": [
    "### Create *ANN* architecture"
   ]
  },
  {
   "cell_type": "markdown",
   "id": "e9253135",
   "metadata": {},
   "source": [
    "### Train ANN"
   ]
  },
  {
   "cell_type": "markdown",
   "id": "62560448",
   "metadata": {},
   "source": [
    "### Evaluate ANN"
   ]
  }
 ],
 "metadata": {
  "kernelspec": {
   "display_name": ".venv (3.12.2)",
   "language": "python",
   "name": "python3"
  },
  "language_info": {
   "codemirror_mode": {
    "name": "ipython",
    "version": 3
   },
   "file_extension": ".py",
   "mimetype": "text/x-python",
   "name": "python",
   "nbconvert_exporter": "python",
   "pygments_lexer": "ipython3",
   "version": "3.12.2"
  }
 },
 "nbformat": 4,
 "nbformat_minor": 5
}
